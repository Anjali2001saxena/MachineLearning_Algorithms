{
 "cells": [
  {
   "cell_type": "code",
   "execution_count": 9,
   "metadata": {},
   "outputs": [],
   "source": [
    "import numpy as np\n",
    "import random"
   ]
  },
  {
   "cell_type": "code",
   "execution_count": 23,
   "metadata": {},
   "outputs": [],
   "source": [
    "import matplotlib.pyplot as plt"
   ]
  },
  {
   "cell_type": "code",
   "execution_count": 24,
   "metadata": {},
   "outputs": [],
   "source": [
    "from sklearn.datasets import make_blobs"
   ]
  },
  {
   "cell_type": "code",
   "execution_count": 25,
   "metadata": {},
   "outputs": [],
   "source": [
    "import seaborn as sns"
   ]
  },
  {
   "cell_type": "code",
   "execution_count": 26,
   "metadata": {},
   "outputs": [],
   "source": [
    "# Genrates random dataset with 3 centers and there is no use of y in KMeans as algorithm will itself generate the clusters and no prior labels are required\n",
    "X, y = make_blobs(centers=3, random_state = 42)"
   ]
  },
  {
   "cell_type": "code",
   "execution_count": 27,
   "metadata": {},
   "outputs": [
    {
     "name": "stderr",
     "output_type": "stream",
     "text": [
      "C:\\Users\\Anjali\\anaconda3\\lib\\site-packages\\seaborn\\_decorators.py:36: FutureWarning: Pass the following variables as keyword args: x, y. From version 0.12, the only valid positional argument will be `data`, and passing other arguments without an explicit keyword will result in an error or misinterpretation.\n",
      "  warnings.warn(\n"
     ]
    },
    {
     "data": {
      "text/plain": [
       "<AxesSubplot:>"
      ]
     },
     "execution_count": 27,
     "metadata": {},
     "output_type": "execute_result"
    },
    {
     "data": {
      "image/png": "[encoded data removed]",
      "text/plain": [
       "<Figure size 432x288 with 1 Axes>"
      ]
     },
     "metadata": {
      "needs_background": "light"
     },
     "output_type": "display_data"
    }
   ],
   "source": [
    "# Plots data on 2 axis i.e. axis 0 and axis 1\n",
    "sns.scatterplot(X[:,0], X[:,1])"
   ]
  },
  {
   "cell_type": "code",
   "execution_count": 28,
   "metadata": {},
   "outputs": [],
   "source": [
    "# Cluster class defines every cluster with one center point and other remaining points in the cluster\n",
    "class Cluster:\n",
    "    def __init__(self, center):\n",
    "        self.center = center\n",
    "        self.points = []\n",
    "        \n",
    "    # Function returns the distance of each point in the cluster from its cluster center\n",
    "    def distance(self, point):\n",
    "        return np.sqrt(np.sum((point - self.center) ** 2))"
   ]
  },
  {
   "cell_type": "code",
   "execution_count": 32,
   "metadata": {},
   "outputs": [],
   "source": [
    "class CustomKMeans:\n",
    "    def __init__(self, n_clusters, max_iters=20):\n",
    "        self.n_clusters = n_clusters\n",
    "        self.max_iters = max_iters\n",
    "        \n",
    "    # Initially generates clusters by randomly choosing points from dataset as its center\n",
    "    def fit(self, X):\n",
    "        clusters = []\n",
    "        for i in range(self.n_clusters):\n",
    "            cluster = Cluster(center= random.choice(X))\n",
    "            clusters.append(cluster)\n",
    "            \n",
    "        # Try to optimize the clustering process by iterating max_iters time by reducing the error\n",
    "        for i in range(self.max_iters):\n",
    "            labels = []\n",
    "            \n",
    "            # Each point is added to some cluster\n",
    "            for point in X:\n",
    "                distances = []\n",
    "                # Distance between each point in X and cluster centers is found\n",
    "                for cluster in clusters:\n",
    "                    distances.append(cluster.distance(point))\n",
    "                    \n",
    "                # Point is added to cluster with min distance between the point and the respective cluster center\n",
    "                closest_idx = np.argmin(distances)\n",
    "                closest_cluster = clusters[closest_idx]\n",
    "                closest_cluster.points.append(point)\n",
    "                labels.append(closest_idx)\n",
    "                \n",
    "            # New cluster center is found for every cluster by finding mean of points about axis=0\n",
    "            for cluster in clusters:\n",
    "                cluster.center = np.mean(cluster.points, axis=0)\n",
    "                \n",
    "        self.labels_ = labels\n",
    "        self.cluster_centers_ = [cluster.center for cluster in clusters]\n",
    "                "
   ]
  },
  {
   "cell_type": "code",
   "execution_count": 33,
   "metadata": {},
   "outputs": [
    {
     "name": "stderr",
     "output_type": "stream",
     "text": [
      "C:\\Users\\Anjali\\anaconda3\\lib\\site-packages\\seaborn\\_decorators.py:36: FutureWarning: Pass the following variables as keyword args: x, y. From version 0.12, the only valid positional argument will be `data`, and passing other arguments without an explicit keyword will result in an error or misinterpretation.\n",
      "  warnings.warn(\n"
     ]
    },
    {
     "data": {
      "image/png": "[encoded data removed]",
      "text/plain": [
       "<Figure size 432x288 with 1 Axes>"
      ]
     },
     "metadata": {
      "needs_background": "light"
     },
     "output_type": "display_data"
    }
   ],
   "source": [
    "model = CustomKMeans(n_clusters=2)\n",
    "\n",
    "model.fit(X)\n",
    "sns.scatterplot(X[:, 0], X[:, 1], hue=model.labels_)\n",
    "# Plot cluster centers\n",
    "for center in model.cluster_centers_:\n",
    "    plt.scatter(center[0], center[1], s=60)"
   ]
  },
  {
   "cell_type": "code",
   "execution_count": null,
   "metadata": {},
   "outputs": [],
   "source": []
  },
  {
   "cell_type": "code",
   "execution_count": null,
   "metadata": {},
   "outputs": [],
   "source": []
  }
 ],
 "metadata": {
  "kernelspec": {
   "display_name": "Python 3",
   "language": "python",
   "name": "python3"
  },
  "language_info": {
   "codemirror_mode": {
    "name": "ipython",
    "version": 3
   },
   "file_extension": ".py",
   "mimetype": "text/x-python",
   "name": "python",
   "nbconvert_exporter": "python",
   "pygments_lexer": "ipython3",
   "version": "3.8.5"
  }
 },
 "nbformat": 4,
 "nbformat_minor": 4
}
